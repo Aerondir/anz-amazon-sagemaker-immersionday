{
 "cells": [
  {
   "cell_type": "markdown",
   "metadata": {},
   "source": [
    "# Lab: Bring your own script with Amazon SageMaker"
   ]
  },
  {
   "cell_type": "markdown",
   "metadata": {},
   "source": [
    "## Sklearn script mode training and serving\n",
    "Script mode is a training script format for a number of supported frameworks that lets you execute the training script in SageMaker with minimal modification. The [SageMaker Python SDK](https://github.com/aws/sagemaker-python-sdk) handles transferring your script to a SageMaker training instance. On the training instance, SageMaker's native SKlearn support sets up training-related environment variables and executes your training script. In this tutorial, we use the SageMaker Python SDK to launch a training job and deploy the trained model.\n",
    "\n",
    "Script mode supports training with a Python script, a Python module, or a shell script. In this example, we use a Python script to train a classification model on the [Iris dataset](https://archive.ics.uci.edu/ml/datasets/iris). In this example, we will show how easily you can train a SageMaker using scikit-learn and with SageMaker Python SDK. In addition, this notebook demonstrates how to perform real time inference with the [SageMaker SKlearn container](https://docs.aws.amazon.com/sagemaker/latest/dg/pre-built-docker-containers-scikit-learn-spark.html). "
   ]
  },
  {
   "cell_type": "markdown",
   "metadata": {},
   "source": [
    "## Set up the environment\n",
    "Let's start by setting up the environment:"
   ]
  },
  {
   "cell_type": "code",
   "execution_count": 2,
   "metadata": {},
   "outputs": [],
   "source": [
    "from sagemaker.sklearn.estimator import SKLearn\n",
    "from sagemaker import get_execution_role\n",
    "import os\n",
    "import tarfile\n",
    "import pandas as pd"
   ]
  },
  {
   "cell_type": "code",
   "execution_count": 3,
   "metadata": {},
   "outputs": [
    {
     "name": "stdout",
     "output_type": "stream",
     "text": [
      "sagemaker-ap-southeast-2-571660658801\n"
     ]
    }
   ],
   "source": [
    "import sagemaker\n",
    "\n",
    "sagemaker_session = sagemaker.Session()\n",
    "\n",
    "bucket = sagemaker_session.default_bucket()\n",
    "print(bucket)\n",
    "#prefix = 'sagemaker/DEMO-BYO'\n",
    "\n",
    "role = sagemaker.get_execution_role()"
   ]
  },
  {
   "cell_type": "markdown",
   "metadata": {},
   "source": [
    "## Training data\n",
    "we download the Iris data from UCI Machine Learning repository directly from the web."
   ]
  },
  {
   "cell_type": "code",
   "execution_count": 4,
   "metadata": {},
   "outputs": [
    {
     "name": "stdout",
     "output_type": "stream",
     "text": [
      "--2022-06-01 23:48:32--  https://archive.ics.uci.edu/ml/machine-learning-databases/iris/iris.data\n",
      "Resolving archive.ics.uci.edu (archive.ics.uci.edu)... 128.195.10.252\n",
      "Connecting to archive.ics.uci.edu (archive.ics.uci.edu)|128.195.10.252|:443... connected.\n",
      "HTTP request sent, awaiting response... 200 OK\n",
      "Length: 4551 (4.4K) [application/x-httpd-php]\n",
      "Saving to: ‘iris.data.1’\n",
      "\n",
      "iris.data.1         100%[===================>]   4.44K  --.-KB/s    in 0s      \n",
      "\n",
      "2022-06-01 23:48:33 (121 MB/s) - ‘iris.data.1’ saved [4551/4551]\n",
      "\n"
     ]
    }
   ],
   "source": [
    "!wget https://archive.ics.uci.edu/ml/machine-learning-databases/iris/iris.data"
   ]
  },
  {
   "cell_type": "markdown",
   "metadata": {},
   "source": [
    "## Train and test split\n",
    "We split the data into train and test set"
   ]
  },
  {
   "cell_type": "code",
   "execution_count": 5,
   "metadata": {},
   "outputs": [],
   "source": [
    "data = pd.read_csv('iris.data', \n",
    "                   names=['sepal length', 'sepal width', \n",
    "                          'petal length', 'petal width', \n",
    "                          'label'])\n",
    "\n",
    "data.to_csv('data.csv')\n"
   ]
  },
  {
   "cell_type": "markdown",
   "metadata": {},
   "source": [
    "Load our data to our S3 ready for training using our script."
   ]
  },
  {
   "cell_type": "code",
   "execution_count": 6,
   "metadata": {},
   "outputs": [],
   "source": [
    "import boto3\n",
    "\n",
    "s3_session = boto3.Session().resource('s3')\n",
    "s3_session.Bucket(bucket).Object('data/data.csv').upload_file('data.csv')\n"
   ]
  },
  {
   "cell_type": "markdown",
   "metadata": {},
   "source": [
    "## Construct a script for brining your own SKlearn script to SageMaker\n",
    "Your Scikit-learn training script must be a Python 3.6 compatible source file.\n",
    "The training script is similar to a training script you might run outside of SageMaker, but you can access useful properties about the training environment through various environment variables. For example:\n",
    "- SM_MODEL_DIR: A string representing the path to the directory to write model artifacts to. These artifacts are uploaded to S3 for model hosting.\n",
    "- SM_OUTPUT_DATA_DIR: A string representing the filesystem path to write output artifacts to. Output artifacts may include checkpoints, graphs, and other files to save, not including model artifacts. These artifacts are compressed and uploaded to S3 to the same S3 prefix as the model artifacts.\n",
    "- Supposing two input channels, ‘train’ and ‘test’, were used in the call to the Scikit-learn estimator’s fit() method, the following will be set, following the format “SM_CHANNEL_[channel_name]”:\n",
    "- SM_CHANNEL_TRAIN: A string representing the path to the directory containing data in the ‘train’ channel\n",
    "- SM_CHANNEL_TEST: Same as above, but for the ‘test’ channel.\n",
    "\n",
    "In order to save your trained Scikit-learn model for deployment on SageMaker, your training script should save your model to a certain filesystem path called model_dir. This value is accessible through the environment variable SM_MODEL_DIR.\n",
    "\n",
    "Load the model: before a model can be served, it must be loaded. The SageMaker Scikit-learn model server loads your model by invoking a 'model_fn' function that you must provide in your script\n",
    "\n",
    "Serve a Model: after the SageMaker model server has loaded your model by calling model_fn, SageMaker will serve your model. Model serving is the process of responding to inference requests, received by SageMaker InvokeEndpoint API calls. The SageMaker Scikit-learn model server breaks request handling into three steps:\n",
    "\n",
    "-input processing,\n",
    "-prediction, and\n",
    "-output processing.\n",
    "\n",
    "Here is the entire script and you can see all these details explained above in the script."
   ]
  },
  {
   "cell_type": "code",
   "execution_count": 7,
   "metadata": {},
   "outputs": [
    {
     "name": "stdout",
     "output_type": "stream",
     "text": [
      "\u001b[33m\"\"\"\u001b[39;49;00m\n",
      "\u001b[33mFile: BYO_scikitlearn_model\u001b[39;49;00m\n",
      "\u001b[33m\"\"\"\u001b[39;49;00m\n",
      "\n",
      "\u001b[34mimport\u001b[39;49;00m \u001b[04m\u001b[36margparse\u001b[39;49;00m\n",
      "\u001b[34mimport\u001b[39;49;00m \u001b[04m\u001b[36mnumpy\u001b[39;49;00m \u001b[34mas\u001b[39;49;00m \u001b[04m\u001b[36mnp\u001b[39;49;00m\n",
      "\u001b[34mimport\u001b[39;49;00m \u001b[04m\u001b[36mos\u001b[39;49;00m\n",
      "\u001b[34mimport\u001b[39;49;00m \u001b[04m\u001b[36mpandas\u001b[39;49;00m \u001b[34mas\u001b[39;49;00m \u001b[04m\u001b[36mpd\u001b[39;49;00m\n",
      "\u001b[34mfrom\u001b[39;49;00m \u001b[04m\u001b[36msklearn\u001b[39;49;00m\u001b[04m\u001b[36m.\u001b[39;49;00m\u001b[04m\u001b[36mexternals\u001b[39;49;00m \u001b[34mimport\u001b[39;49;00m joblib\n",
      "\u001b[34mfrom\u001b[39;49;00m \u001b[04m\u001b[36msklearn\u001b[39;49;00m\u001b[04m\u001b[36m.\u001b[39;49;00m\u001b[04m\u001b[36mlinear_model\u001b[39;49;00m \u001b[34mimport\u001b[39;49;00m LogisticRegression\n",
      "\u001b[34mfrom\u001b[39;49;00m \u001b[04m\u001b[36msklearn\u001b[39;49;00m\u001b[04m\u001b[36m.\u001b[39;49;00m\u001b[04m\u001b[36mmodel_selection\u001b[39;49;00m \u001b[34mimport\u001b[39;49;00m train_test_split\n",
      "\u001b[34mfrom\u001b[39;49;00m \u001b[04m\u001b[36msklearn\u001b[39;49;00m\u001b[04m\u001b[36m.\u001b[39;49;00m\u001b[04m\u001b[36mpreprocessing\u001b[39;49;00m \u001b[34mimport\u001b[39;49;00m StandardScaler\n",
      "\n",
      "\u001b[37m# Dictionary to encode labels to codes\u001b[39;49;00m\n",
      "label_encode = {\n",
      "    \u001b[33m'\u001b[39;49;00m\u001b[33mIris-virginica\u001b[39;49;00m\u001b[33m'\u001b[39;49;00m: \u001b[34m0\u001b[39;49;00m,\n",
      "    \u001b[33m'\u001b[39;49;00m\u001b[33mIris-versicolor\u001b[39;49;00m\u001b[33m'\u001b[39;49;00m: \u001b[34m1\u001b[39;49;00m,\n",
      "    \u001b[33m'\u001b[39;49;00m\u001b[33mIris-setosa\u001b[39;49;00m\u001b[33m'\u001b[39;49;00m: \u001b[34m2\u001b[39;49;00m\n",
      "}\n",
      "\n",
      "\u001b[37m# Dictionary to convert codes to labels\u001b[39;49;00m\n",
      "label_decode = {\n",
      "    \u001b[34m0\u001b[39;49;00m: \u001b[33m'\u001b[39;49;00m\u001b[33mIris-virginica\u001b[39;49;00m\u001b[33m'\u001b[39;49;00m,\n",
      "    \u001b[34m1\u001b[39;49;00m: \u001b[33m'\u001b[39;49;00m\u001b[33mIris-versicolor\u001b[39;49;00m\u001b[33m'\u001b[39;49;00m,\n",
      "    \u001b[34m2\u001b[39;49;00m: \u001b[33m'\u001b[39;49;00m\u001b[33mIris-setosa\u001b[39;49;00m\u001b[33m'\u001b[39;49;00m\n",
      "}\n",
      "\n",
      "\n",
      "\u001b[34mif\u001b[39;49;00m \u001b[31m__name__\u001b[39;49;00m ==\u001b[33m'\u001b[39;49;00m\u001b[33m__main__\u001b[39;49;00m\u001b[33m'\u001b[39;49;00m:\n",
      "    parser = argparse.ArgumentParser()\n",
      "    parser.add_argument(\u001b[33m'\u001b[39;49;00m\u001b[33m--output-data-dir\u001b[39;49;00m\u001b[33m'\u001b[39;49;00m, \u001b[36mtype\u001b[39;49;00m=\u001b[36mstr\u001b[39;49;00m, default=os.environ.get(\u001b[33m'\u001b[39;49;00m\u001b[33mSM_OUTPUT_DATA_DIR\u001b[39;49;00m\u001b[33m'\u001b[39;49;00m))\n",
      "    parser.add_argument(\u001b[33m'\u001b[39;49;00m\u001b[33m--model-dir\u001b[39;49;00m\u001b[33m'\u001b[39;49;00m, \u001b[36mtype\u001b[39;49;00m=\u001b[36mstr\u001b[39;49;00m, default=os.environ.get(\u001b[33m'\u001b[39;49;00m\u001b[33mSM_MODEL_DIR\u001b[39;49;00m\u001b[33m'\u001b[39;49;00m))\n",
      "    parser.add_argument(\u001b[33m'\u001b[39;49;00m\u001b[33m--train\u001b[39;49;00m\u001b[33m'\u001b[39;49;00m, \u001b[36mtype\u001b[39;49;00m=\u001b[36mstr\u001b[39;49;00m, default=os.environ.get(\u001b[33m'\u001b[39;49;00m\u001b[33mSM_CHANNEL_TRAIN\u001b[39;49;00m\u001b[33m'\u001b[39;49;00m))\n",
      "    \u001b[37m#parser.add_argument('--test', type=str, default=os.environ.get('SM_CHANNEL_TEST'))\u001b[39;49;00m\n",
      "\n",
      "    args = parser.parse_args()\n",
      "\n",
      "    data = pd.read_csv(os.path.join(args.train,\u001b[33m'\u001b[39;49;00m\u001b[33mdata.csv\u001b[39;49;00m\u001b[33m'\u001b[39;49;00m),index_col=\u001b[34m0\u001b[39;49;00m, engine=\u001b[33m\"\u001b[39;49;00m\u001b[33mpython\u001b[39;49;00m\u001b[33m\"\u001b[39;49;00m)\n",
      "\n",
      "    Y_encoded = data[\u001b[33m'\u001b[39;49;00m\u001b[33mlabel\u001b[39;49;00m\u001b[33m'\u001b[39;49;00m].map(label_encode)\n",
      "    X =  data.drop([\u001b[33m\"\u001b[39;49;00m\u001b[33mlabel\u001b[39;49;00m\u001b[33m\"\u001b[39;49;00m], axis=\u001b[34m1\u001b[39;49;00m)\n",
      "\n",
      "    train_X, test_X, train_y, test_y = train_test_split(X, Y_encoded, test_size=\u001b[34m0.2\u001b[39;49;00m) \n",
      "    sc = StandardScaler()\n",
      "    X_train = sc.fit_transform(train_X)\n",
      "    X_test = sc.fit_transform(test_X)\n",
      "    \n",
      "    \u001b[37m#train the logistic regression model\u001b[39;49;00m\n",
      "    model = LogisticRegression().fit(X_train, train_y)\n",
      "\n",
      "    \u001b[37m#Save the model to the location specified by args.model_dir\u001b[39;49;00m\n",
      "    joblib.dump(model, os.path.join(args.model_dir, \u001b[33m\"\u001b[39;49;00m\u001b[33mmodel.joblib\u001b[39;49;00m\u001b[33m\"\u001b[39;49;00m))\n",
      "\n",
      "\n",
      "\u001b[34mdef\u001b[39;49;00m \u001b[32mmodel_fn\u001b[39;49;00m(model_dir):\n",
      "    model = joblib.load(os.path.join(model_dir, \u001b[33m\"\u001b[39;49;00m\u001b[33mmodel.joblib\u001b[39;49;00m\u001b[33m\"\u001b[39;49;00m))\n",
      "    \u001b[34mreturn\u001b[39;49;00m model\n",
      "\n",
      "\n",
      "\n",
      "\u001b[34mdef\u001b[39;49;00m \u001b[32minput_fn\u001b[39;49;00m(request_body, request_content_type):\n",
      "    \u001b[34mif\u001b[39;49;00m request_content_type == \u001b[33m'\u001b[39;49;00m\u001b[33mtext/csv\u001b[39;49;00m\u001b[33m'\u001b[39;49;00m:\n",
      "        samples = []\n",
      "        \u001b[34mfor\u001b[39;49;00m r \u001b[35min\u001b[39;49;00m request_body.split(\u001b[33m'\u001b[39;49;00m\u001b[33m\\n\u001b[39;49;00m\u001b[33m'\u001b[39;49;00m):\n",
      "            samples.append(\u001b[36mlist\u001b[39;49;00m(\u001b[36mmap\u001b[39;49;00m(\u001b[36mfloat\u001b[39;49;00m,r.split(\u001b[33m'\u001b[39;49;00m\u001b[33m,\u001b[39;49;00m\u001b[33m'\u001b[39;49;00m))))\n",
      "        \u001b[34mreturn\u001b[39;49;00m np.array(samples)\n",
      "    \u001b[34melse\u001b[39;49;00m:\n",
      "        \u001b[34mraise\u001b[39;49;00m \u001b[36mValueError\u001b[39;49;00m(\u001b[33m\"\u001b[39;49;00m\u001b[33mThis model only supports text/csv input\u001b[39;49;00m\u001b[33m\"\u001b[39;49;00m)\n",
      "\n",
      "\n",
      "\n",
      "\u001b[34mdef\u001b[39;49;00m \u001b[32mpredict_fn\u001b[39;49;00m(input_data, model):\n",
      "    \u001b[34mreturn\u001b[39;49;00m model.predict(input_data)\n",
      "\n",
      "\n",
      "\u001b[34mdef\u001b[39;49;00m \u001b[32moutput_fn\u001b[39;49;00m(prediction, content_type):\n",
      "    \u001b[34mreturn\u001b[39;49;00m \u001b[33m'\u001b[39;49;00m\u001b[33m | \u001b[39;49;00m\u001b[33m'\u001b[39;49;00m.join([label_decode[t] \u001b[34mfor\u001b[39;49;00m t \u001b[35min\u001b[39;49;00m prediction])\n"
     ]
    }
   ],
   "source": [
    "!pygmentize 'main.py'\n"
   ]
  },
  {
   "cell_type": "code",
   "execution_count": 8,
   "metadata": {},
   "outputs": [],
   "source": [
    "sklearn_estimator = SKLearn(entry_point='main.py',\n",
    "                            instance_type='ml.m4.xlarge',\n",
    "                            framework_version='0.20.0',\n",
    "                            role=role)\n"
   ]
  },
  {
   "cell_type": "markdown",
   "metadata": {},
   "source": [
    "# Calling `fit`\n",
    "To start a training job, we call `estimator.fit(training_data_uri)`.\n",
    "\n",
    "An S3 location is used here as the input. fit creates a default channel named 'training', which points to this S3 location. In the training script we can then access the training data from the location stored in SM_CHANNEL_TRAINING. fit accepts a couple other types of input as well. See the API doc [here](https://sagemaker.readthedocs.io/en/stable/estimators.html#sagemaker.estimator.EstimatorBase.fit) for details.\n",
    "\n",
    "When training starts, the Scikit-learn container executes BYO_sklearn_main.py, passing hyperparameters and model_dir from the estimator as script arguments. Because we didn't define either in this example, no hyperparameters are passed, and model_dir defaults to `s3://<DEFAULT_BUCKET>/<TRAINING_JOB_NAME>`, so the script execution is as follows:\n",
    "\n",
    "`BYO_sklearn_main.py --model_dir s3://<DEFAULT_BUCKET>/<TRAINING_JOB_NAME>`\n",
    "\n",
    "When training is complete, the training job will upload the saved model to S3 for deployment."
   ]
  },
  {
   "cell_type": "code",
   "execution_count": 9,
   "metadata": {},
   "outputs": [
    {
     "name": "stdout",
     "output_type": "stream",
     "text": [
      "2022-06-01 23:48:35 Starting - Starting the training job...\n",
      "2022-06-01 23:49:01 Starting - Preparing the instances for trainingProfilerReport-1654127315: InProgress\n",
      ".........\n",
      "2022-06-01 23:50:23 Downloading - Downloading input data...\n",
      "2022-06-01 23:51:01 Training - Downloading the training image......\n",
      "2022-06-01 23:52:01 Uploading - Uploading generated training model\u001b[34m2022-06-01 23:51:52,247 sagemaker-containers INFO     Imported framework sagemaker_sklearn_container.training\u001b[0m\n",
      "\u001b[34m2022-06-01 23:51:52,252 sagemaker-training-toolkit INFO     No GPUs detected (normal if no gpus installed)\u001b[0m\n",
      "\u001b[34m2022-06-01 23:51:52,270 sagemaker_sklearn_container.training INFO     Invoking user training script.\u001b[0m\n",
      "\u001b[34m2022-06-01 23:51:52,772 sagemaker-training-toolkit INFO     No GPUs detected (normal if no gpus installed)\u001b[0m\n",
      "\u001b[34m2022-06-01 23:51:52,792 sagemaker-training-toolkit INFO     No GPUs detected (normal if no gpus installed)\u001b[0m\n",
      "\u001b[34m2022-06-01 23:51:52,814 sagemaker-training-toolkit INFO     No GPUs detected (normal if no gpus installed)\u001b[0m\n",
      "\u001b[34m2022-06-01 23:51:52,833 sagemaker-training-toolkit INFO     Invoking user script\u001b[0m\n",
      "\u001b[34mTraining Env:\u001b[0m\n",
      "\u001b[34m{\n",
      "    \"additional_framework_parameters\": {},\n",
      "    \"channel_input_dirs\": {\n",
      "        \"train\": \"/opt/ml/input/data/train\"\n",
      "    },\n",
      "    \"current_host\": \"algo-1\",\n",
      "    \"framework_module\": \"sagemaker_sklearn_container.training:main\",\n",
      "    \"hosts\": [\n",
      "        \"algo-1\"\n",
      "    ],\n",
      "    \"hyperparameters\": {},\n",
      "    \"input_config_dir\": \"/opt/ml/input/config\",\n",
      "    \"input_data_config\": {\n",
      "        \"train\": {\n",
      "            \"TrainingInputMode\": \"File\",\n",
      "            \"S3DistributionType\": \"FullyReplicated\",\n",
      "            \"RecordWrapperType\": \"None\"\n",
      "        }\n",
      "    },\n",
      "    \"input_dir\": \"/opt/ml/input\",\n",
      "    \"is_master\": true,\n",
      "    \"job_name\": \"sagemaker-scikit-learn-2022-06-01-23-48-35-070\",\n",
      "    \"log_level\": 20,\n",
      "    \"master_hostname\": \"algo-1\",\n",
      "    \"model_dir\": \"/opt/ml/model\",\n",
      "    \"module_dir\": \"s3://sagemaker-ap-southeast-2-571660658801/sagemaker-scikit-learn-2022-06-01-23-48-35-070/source/sourcedir.tar.gz\",\n",
      "    \"module_name\": \"main\",\n",
      "    \"network_interface_name\": \"eth0\",\n",
      "    \"num_cpus\": 4,\n",
      "    \"num_gpus\": 0,\n",
      "    \"output_data_dir\": \"/opt/ml/output/data\",\n",
      "    \"output_dir\": \"/opt/ml/output\",\n",
      "    \"output_intermediate_dir\": \"/opt/ml/output/intermediate\",\n",
      "    \"resource_config\": {\n",
      "        \"current_host\": \"algo-1\",\n",
      "        \"current_instance_type\": \"ml.m4.xlarge\",\n",
      "        \"current_group_name\": \"homogeneousCluster\",\n",
      "        \"hosts\": [\n",
      "            \"algo-1\"\n",
      "        ],\n",
      "        \"instance_groups\": [\n",
      "            {\n",
      "                \"instance_group_name\": \"homogeneousCluster\",\n",
      "                \"instance_type\": \"ml.m4.xlarge\",\n",
      "                \"hosts\": [\n",
      "                    \"algo-1\"\n",
      "                ]\n",
      "            }\n",
      "        ],\n",
      "        \"network_interface_name\": \"eth0\"\n",
      "    },\n",
      "    \"user_entry_point\": \"main.py\"\u001b[0m\n",
      "\u001b[34m}\u001b[0m\n",
      "\u001b[34mEnvironment variables:\u001b[0m\n",
      "\u001b[34mSM_HOSTS=[\"algo-1\"]\u001b[0m\n",
      "\u001b[34mSM_NETWORK_INTERFACE_NAME=eth0\u001b[0m\n",
      "\u001b[34mSM_HPS={}\u001b[0m\n",
      "\u001b[34mSM_USER_ENTRY_POINT=main.py\u001b[0m\n",
      "\u001b[34mSM_FRAMEWORK_PARAMS={}\u001b[0m\n",
      "\u001b[34mSM_RESOURCE_CONFIG={\"current_group_name\":\"homogeneousCluster\",\"current_host\":\"algo-1\",\"current_instance_type\":\"ml.m4.xlarge\",\"hosts\":[\"algo-1\"],\"instance_groups\":[{\"hosts\":[\"algo-1\"],\"instance_group_name\":\"homogeneousCluster\",\"instance_type\":\"ml.m4.xlarge\"}],\"network_interface_name\":\"eth0\"}\u001b[0m\n",
      "\u001b[34mSM_INPUT_DATA_CONFIG={\"train\":{\"RecordWrapperType\":\"None\",\"S3DistributionType\":\"FullyReplicated\",\"TrainingInputMode\":\"File\"}}\u001b[0m\n",
      "\u001b[34mSM_OUTPUT_DATA_DIR=/opt/ml/output/data\u001b[0m\n",
      "\u001b[34mSM_CHANNELS=[\"train\"]\u001b[0m\n",
      "\u001b[34mSM_CURRENT_HOST=algo-1\u001b[0m\n",
      "\u001b[34mSM_MODULE_NAME=main\u001b[0m\n",
      "\u001b[34mSM_LOG_LEVEL=20\u001b[0m\n",
      "\u001b[34mSM_FRAMEWORK_MODULE=sagemaker_sklearn_container.training:main\u001b[0m\n",
      "\u001b[34mSM_INPUT_DIR=/opt/ml/input\u001b[0m\n",
      "\u001b[34mSM_INPUT_CONFIG_DIR=/opt/ml/input/config\u001b[0m\n",
      "\u001b[34mSM_OUTPUT_DIR=/opt/ml/output\u001b[0m\n",
      "\u001b[34mSM_NUM_CPUS=4\u001b[0m\n",
      "\u001b[34mSM_NUM_GPUS=0\u001b[0m\n",
      "\u001b[34mSM_MODEL_DIR=/opt/ml/model\u001b[0m\n",
      "\u001b[34mSM_MODULE_DIR=s3://sagemaker-ap-southeast-2-571660658801/sagemaker-scikit-learn-2022-06-01-23-48-35-070/source/sourcedir.tar.gz\u001b[0m\n",
      "\u001b[34mSM_TRAINING_ENV={\"additional_framework_parameters\":{},\"channel_input_dirs\":{\"train\":\"/opt/ml/input/data/train\"},\"current_host\":\"algo-1\",\"framework_module\":\"sagemaker_sklearn_container.training:main\",\"hosts\":[\"algo-1\"],\"hyperparameters\":{},\"input_config_dir\":\"/opt/ml/input/config\",\"input_data_config\":{\"train\":{\"RecordWrapperType\":\"None\",\"S3DistributionType\":\"FullyReplicated\",\"TrainingInputMode\":\"File\"}},\"input_dir\":\"/opt/ml/input\",\"is_master\":true,\"job_name\":\"sagemaker-scikit-learn-2022-06-01-23-48-35-070\",\"log_level\":20,\"master_hostname\":\"algo-1\",\"model_dir\":\"/opt/ml/model\",\"module_dir\":\"s3://sagemaker-ap-southeast-2-571660658801/sagemaker-scikit-learn-2022-06-01-23-48-35-070/source/sourcedir.tar.gz\",\"module_name\":\"main\",\"network_interface_name\":\"eth0\",\"num_cpus\":4,\"num_gpus\":0,\"output_data_dir\":\"/opt/ml/output/data\",\"output_dir\":\"/opt/ml/output\",\"output_intermediate_dir\":\"/opt/ml/output/intermediate\",\"resource_config\":{\"current_group_name\":\"homogeneousCluster\",\"current_host\":\"algo-1\",\"current_instance_type\":\"ml.m4.xlarge\",\"hosts\":[\"algo-1\"],\"instance_groups\":[{\"hosts\":[\"algo-1\"],\"instance_group_name\":\"homogeneousCluster\",\"instance_type\":\"ml.m4.xlarge\"}],\"network_interface_name\":\"eth0\"},\"user_entry_point\":\"main.py\"}\u001b[0m\n",
      "\u001b[34mSM_USER_ARGS=[]\u001b[0m\n",
      "\u001b[34mSM_OUTPUT_INTERMEDIATE_DIR=/opt/ml/output/intermediate\u001b[0m\n",
      "\u001b[34mSM_CHANNEL_TRAIN=/opt/ml/input/data/train\u001b[0m\n",
      "\u001b[34mPYTHONPATH=/opt/ml/code:/miniconda3/bin:/miniconda3/lib/python37.zip:/miniconda3/lib/python3.7:/miniconda3/lib/python3.7/lib-dynload:/miniconda3/lib/python3.7/site-packages\u001b[0m\n",
      "\u001b[34mInvoking script with the following command:\u001b[0m\n",
      "\u001b[34m/miniconda3/bin/python main.py\u001b[0m\n",
      "\u001b[34m/miniconda3/lib/python3.7/site-packages/sklearn/externals/joblib/externals/cloudpickle/cloudpickle.py:47: DeprecationWarning: the imp module is deprecated in favour of importlib; see the module's documentation for alternative uses\n",
      "  import imp\u001b[0m\n",
      "\u001b[34m/miniconda3/lib/python3.7/site-packages/sklearn/linear_model/logistic.py:432: FutureWarning: Default solver will be changed to 'lbfgs' in 0.22. Specify a solver to silence this warning.\n",
      "  FutureWarning)\u001b[0m\n",
      "\u001b[34m/miniconda3/lib/python3.7/site-packages/sklearn/linear_model/logistic.py:459: FutureWarning: Default multi_class will be changed to 'auto' in 0.22. Specify the multi_class option to silence this warning.\n",
      "  \"this warning.\", FutureWarning)\u001b[0m\n",
      "\u001b[34m/miniconda3/lib/python3.7/site-packages/sklearn/externals/joblib/numpy_pickle.py:104: DeprecationWarning: tostring() is deprecated. Use tobytes() instead.\n",
      "  pickler.file_handle.write(chunk.tostring('C'))\u001b[0m\n",
      "\u001b[34m/miniconda3/lib/python3.7/site-packages/sklearn/externals/joblib/numpy_pickle.py:104: DeprecationWarning: tostring() is deprecated. Use tobytes() instead.\n",
      "  pickler.file_handle.write(chunk.tostring('C'))\u001b[0m\n",
      "\u001b[34m/miniconda3/lib/python3.7/site-packages/sklearn/externals/joblib/numpy_pickle.py:104: DeprecationWarning: tostring() is deprecated. Use tobytes() instead.\n",
      "  pickler.file_handle.write(chunk.tostring('C'))\u001b[0m\n",
      "\u001b[34m/miniconda3/lib/python3.7/site-packages/sklearn/externals/joblib/numpy_pickle.py:104: DeprecationWarning: tostring() is deprecated. Use tobytes() instead.\n",
      "  pickler.file_handle.write(chunk.tostring('C'))\u001b[0m\n",
      "\u001b[34m2022-06-01 23:51:54,516 sagemaker-containers INFO     Reporting training SUCCESS\u001b[0m\n",
      "\n",
      "2022-06-01 23:52:21 Completed - Training job completed\n",
      "Training seconds: 107\n",
      "Billable seconds: 107\n"
     ]
    }
   ],
   "source": [
    "sklearn_estimator.fit({'train': 's3://{}/data/data.csv'.format(bucket)})\n"
   ]
  },
  {
   "cell_type": "markdown",
   "metadata": {},
   "source": [
    "## Deploy\n",
    "We are now ready to deploy our model to Sagemaker hosting services and make real time predictions"
   ]
  },
  {
   "cell_type": "code",
   "execution_count": 10,
   "metadata": {},
   "outputs": [
    {
     "name": "stdout",
     "output_type": "stream",
     "text": [
      "------!"
     ]
    }
   ],
   "source": [
    "predictor = sklearn_estimator.deploy(instance_type='ml.m4.xlarge',\n",
    "                                     initial_instance_count=1)\n"
   ]
  },
  {
   "cell_type": "markdown",
   "metadata": {},
   "source": [
    "Let's now send some data to our model to predict- the data shouldbe sent in the accepted format and the code below just does that."
   ]
  },
  {
   "cell_type": "code",
   "execution_count": 11,
   "metadata": {},
   "outputs": [
    {
     "data": {
      "text/plain": [
       "array([[-0.29549457, -1.09317789, -0.37691428, -0.41952354],\n",
       "       [-0.86330766, -0.56802381, -0.95406427, -0.41952354],\n",
       "       [-1.14721421, -0.83060085,  0.20023571, -0.41952354],\n",
       "       [-0.01158802,  0.48228436, -0.37691428, -0.41952354],\n",
       "       [ 1.12403817,  1.27001549,  1.35453569,  1.44926314],\n",
       "       [-1.14721421, -0.04286972, -0.37691428,  0.5148698 ],\n",
       "       [-0.01158802, -0.04286972,  0.20023571, -0.41952354],\n",
       "       [-1.7150273 , -1.35575494, -0.37691428, -0.41952354],\n",
       "       [-0.29549457, -0.83060085,  0.20023571, -1.35391688],\n",
       "       [ 1.12403817,  0.74486141,  0.20023571, -0.41952354],\n",
       "       [-0.57940112, -0.04286972,  0.7773857 , -0.41952354],\n",
       "       [-0.57940112, -1.09317789, -0.37691428, -1.35391688],\n",
       "       [-1.99893385, -1.09317789, -2.10836424, -1.35391688],\n",
       "       [ 2.25966435,  1.53259254, -1.53121425, -0.41952354],\n",
       "       [ 1.97575781,  2.58290071,  0.20023571,  1.44926314],\n",
       "       [ 1.12403817,  1.27001549, -0.95406427,  1.44926314],\n",
       "       [ 0.27231852,  0.21970732, -0.37691428,  0.5148698 ],\n",
       "       [ 1.97575781,  1.00743845,  1.35453569,  0.5148698 ],\n",
       "       [ 0.27231852,  1.00743845,  0.20023571,  0.5148698 ],\n",
       "       [ 1.12403817, -0.04286972,  1.35453569, -0.41952354],\n",
       "       [ 0.27231852,  0.74486141,  0.20023571,  1.44926314],\n",
       "       [-1.14721421,  0.48228436, -2.68551423, -0.41952354],\n",
       "       [ 0.27231852, -0.30544676,  1.35453569,  2.38365647],\n",
       "       [-0.57940112, -0.04286972,  2.50883566, -0.41952354],\n",
       "       [-0.01158802, -1.09317789,  0.7773857 , -0.41952354],\n",
       "       [-0.01158802, -0.04286972,  0.7773857 ,  1.44926314],\n",
       "       [ 0.55622507,  0.21970732,  0.20023571, -0.41952354],\n",
       "       [ 0.55622507, -0.04286972, -0.37691428, -0.41952354],\n",
       "       [-0.86330766, -0.56802381,  0.7773857 , -0.41952354],\n",
       "       [-0.57940112, -0.83060085,  0.7773857 , -0.41952354],\n",
       "       [ 1.12403817, -0.04286972,  0.20023571,  1.44926314],\n",
       "       [ 0.55622507,  1.79516958,  0.20023571, -1.35391688],\n",
       "       [ 1.40794471,  2.05774662, -0.37691428, -0.41952354],\n",
       "       [-0.29549457, -0.83060085,  0.20023571, -1.35391688],\n",
       "       [-0.01158802, -0.56802381, -1.53121425, -0.41952354],\n",
       "       [ 1.40794471,  0.21970732, -0.95406427, -0.41952354],\n",
       "       [-0.29549457, -0.83060085,  0.20023571, -1.35391688],\n",
       "       [-1.7150273 , -1.09317789, -0.95406427, -0.41952354],\n",
       "       [ 0.27231852, -0.04286972,  0.20023571, -0.41952354],\n",
       "       [-0.01158802,  0.21970732, -0.95406427,  0.5148698 ],\n",
       "       [-1.43112076, -2.93121719, -0.95406427,  0.5148698 ],\n",
       "       [-1.7150273 , -0.56802381, -0.95406427, -0.41952354],\n",
       "       [-0.01158802,  0.21970732,  0.7773857 ,  3.31804981],\n",
       "       [ 0.27231852,  1.00743845,  2.50883566,  1.44926314],\n",
       "       [-0.57940112, -1.09317789, -0.37691428,  0.5148698 ],\n",
       "       [ 0.27231852,  1.00743845,  0.7773857 , -0.41952354],\n",
       "       [-1.14721421, -0.56802381, -0.37691428, -0.41952354],\n",
       "       [ 0.84013162,  0.74486141,  0.20023571, -0.41952354],\n",
       "       [-0.01158802, -0.30544676, -0.37691428, -0.41952354]])"
      ]
     },
     "execution_count": 11,
     "metadata": {},
     "output_type": "execute_result"
    }
   ],
   "source": [
    "from sklearn.preprocessing import StandardScaler\n",
    "test=pd.read_csv(\"data.csv\")\n",
    "#print(test)\n",
    "test=test.iloc[1:50,1:5].values.tolist()\n",
    "#standardised input\n",
    "sc = StandardScaler()\n",
    "test = sc.fit_transform(test)\n",
    "\n",
    "    \n",
    "test"
   ]
  },
  {
   "cell_type": "code",
   "execution_count": 12,
   "metadata": {},
   "outputs": [
    {
     "name": "stdout",
     "output_type": "stream",
     "text": [
      "-0.29549456918691325,-1.093177892610886,-0.376914277945237,-0.41952353926805985\n",
      "-0.8633076629186336,-0.5680238069448718,-0.9540642660488794,-0.41952353926805985\n",
      "-1.1472142097844948,-0.8306008497778788,0.20023571015840666,-0.41952353926805985\n",
      "-0.011588022321054384,0.4822843643871554,-0.376914277945237,-0.41952353926805985\n",
      "1.124038165142386,1.2700154928861755,1.3545356863656928,1.4492631356533008\n",
      "-1.1472142097844948,-0.042869721278858776,-0.376914277945237,0.5148697981926202\n",
      "-0.011588022321054384,-0.042869721278858776,0.20023571015840666,-0.41952353926805985\n",
      "-1.7150273035162127,-1.3557549354438931,-0.376914277945237,-0.41952353926805985\n",
      "-0.29549456918691325,-0.8306008497778788,0.20023571015840666,-1.3539168767287402\n",
      "1.124038165142386,0.7448614072201625,0.20023571015840666,-0.41952353926805985\n",
      "-0.5794011160527747,-0.042869721278858776,0.7773856982620503,-0.41952353926805985\n",
      "-0.5794011160527747,-1.093177892610886,-0.376914277945237,-1.3539168767287402\n",
      "-1.9989338503820742,-1.093177892610886,-2.1083642422561657,-1.3539168767287402\n",
      "2.2596643526058244,1.5325925357191825,-1.531214254152523,-0.41952353926805985\n",
      "1.9757578057399654,2.582900707051211,0.20023571015840666,1.4492631356533008\n",
      "1.124038165142386,1.2700154928861755,-0.9540642660488794,1.4492631356533008\n",
      "0.2723185245448045,0.21970732155414832,-0.376914277945237,0.5148697981926202\n",
      "1.9757578057399654,1.0074384500531683,1.3545356863656928,0.5148697981926202\n",
      "0.2723185245448045,1.0074384500531683,0.20023571015840666,0.5148697981926202\n",
      "1.124038165142386,-0.042869721278858776,1.3545356863656928,-0.41952353926805985\n",
      "0.2723185245448045,0.7448614072201625,0.20023571015840666,1.4492631356533008\n",
      "-1.1472142097844948,0.4822843643871554,-2.6855142303598094,-0.41952353926805985\n",
      "0.2723185245448045,-0.3054467641118659,1.3545356863656928,2.383656473113981\n",
      "-0.5794011160527747,-0.042869721278858776,2.5088356625729786,-0.41952353926805985\n",
      "-0.011588022321054384,-1.093177892610886,0.7773856982620503,-0.41952353926805985\n",
      "-0.011588022321054384,-0.042869721278858776,0.7773856982620503,1.4492631356533008\n",
      "0.5562250714106659,0.21970732155414832,0.20023571015840666,-0.41952353926805985\n",
      "0.5562250714106659,-0.042869721278858776,-0.376914277945237,-0.41952353926805985\n",
      "-0.8633076629186336,-0.5680238069448718,0.7773856982620503,-0.41952353926805985\n",
      "-0.5794011160527747,-0.8306008497778788,0.7773856982620503,-0.41952353926805985\n",
      "1.124038165142386,-0.042869721278858776,0.20023571015840666,1.4492631356533008\n",
      "0.5562250714106659,1.7951695785521886,0.20023571015840666,-1.3539168767287402\n",
      "1.4079447120082451,2.057746621385197,-0.376914277945237,-0.41952353926805985\n",
      "-0.29549456918691325,-0.8306008497778788,0.20023571015840666,-1.3539168767287402\n",
      "-0.011588022321054384,-0.5680238069448718,-1.531214254152523,-0.41952353926805985\n",
      "1.4079447120082451,0.21970732155414832,-0.9540642660488794,-0.41952353926805985\n",
      "-0.29549456918691325,-0.8306008497778788,0.20023571015840666,-1.3539168767287402\n",
      "-1.7150273035162127,-1.093177892610886,-0.9540642660488794,-0.41952353926805985\n",
      "0.2723185245448045,-0.042869721278858776,0.20023571015840666,-0.41952353926805985\n",
      "-0.011588022321054384,0.21970732155414832,-0.9540642660488794,0.5148697981926202\n",
      "-1.4311207566503539,-2.9312171924419346,-0.9540642660488794,0.5148697981926202\n",
      "-1.7150273035162127,-0.5680238069448718,-0.9540642660488794,-0.41952353926805985\n",
      "-0.011588022321054384,0.21970732155414832,0.7773856982620503,3.318049810574661\n",
      "0.2723185245448045,1.0074384500531683,2.5088356625729786,1.4492631356533008\n",
      "-0.5794011160527747,-1.093177892610886,-0.376914277945237,0.5148697981926202\n",
      "0.2723185245448045,1.0074384500531683,0.7773856982620503,-0.41952353926805985\n",
      "-1.1472142097844948,-0.5680238069448718,-0.376914277945237,-0.41952353926805985\n",
      "0.8401316182765248,0.7448614072201625,0.20023571015840666,-0.41952353926805985\n",
      "-0.011588022321054384,-0.3054467641118659,-0.376914277945237,-0.41952353926805985\n"
     ]
    }
   ],
   "source": [
    "request_body = \"\"\n",
    "for row in test:\n",
    "    request_body += \",\".join([str(n) for n in row]) + \"\\n\"\n",
    "request_body = request_body[:-1]\n",
    "\n",
    "print(request_body)"
   ]
  },
  {
   "cell_type": "code",
   "execution_count": 13,
   "metadata": {},
   "outputs": [],
   "source": [
    "client = boto3.client('sagemaker-runtime')\n",
    "\n",
    "endpoint=predictor.endpoint_name\n",
    "\n",
    "\n",
    "content_type = \"text/csv\"\n",
    "\n",
    "response = client.invoke_endpoint(\n",
    "    EndpointName=endpoint,\n",
    "    ContentType=content_type,\n",
    "    Body=request_body\n",
    "    )\n"
   ]
  },
  {
   "cell_type": "code",
   "execution_count": 14,
   "metadata": {},
   "outputs": [
    {
     "data": {
      "text/plain": [
       "b'Iris-versicolor | Iris-setosa | Iris-versicolor | Iris-setosa | Iris-virginica | Iris-setosa | Iris-versicolor | Iris-versicolor | Iris-versicolor | Iris-versicolor | Iris-versicolor | Iris-versicolor | Iris-setosa | Iris-setosa | Iris-virginica | Iris-virginica | Iris-virginica | Iris-virginica | Iris-virginica | Iris-versicolor | Iris-virginica | Iris-setosa | Iris-virginica | Iris-virginica | Iris-versicolor | Iris-virginica | Iris-versicolor | Iris-versicolor | Iris-versicolor | Iris-versicolor | Iris-virginica | Iris-setosa | Iris-setosa | Iris-versicolor | Iris-setosa | Iris-setosa | Iris-versicolor | Iris-versicolor | Iris-versicolor | Iris-setosa | Iris-versicolor | Iris-setosa | Iris-virginica | Iris-virginica | Iris-versicolor | Iris-setosa | Iris-versicolor | Iris-setosa | Iris-versicolor'"
      ]
     },
     "execution_count": 14,
     "metadata": {},
     "output_type": "execute_result"
    }
   ],
   "source": [
    "response['Body'].read()"
   ]
  }
 ],
 "metadata": {
  "instance_type": "ml.t3.medium",
  "kernelspec": {
   "display_name": "Python 3 (Data Science)",
   "language": "python",
   "name": "python3__SAGEMAKER_INTERNAL__arn:aws:sagemaker:ap-southeast-2:452832661640:image/datascience-1.0"
  },
  "language_info": {
   "codemirror_mode": {
    "name": "ipython",
    "version": 3
   },
   "file_extension": ".py",
   "mimetype": "text/x-python",
   "name": "python",
   "nbconvert_exporter": "python",
   "pygments_lexer": "ipython3",
   "version": "3.7.10"
  }
 },
 "nbformat": 4,
 "nbformat_minor": 5
}
